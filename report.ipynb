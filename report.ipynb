{
 "cells": [
  {
   "cell_type": "markdown",
   "metadata": {},
   "source": [
    "# Train a Smartcab to Drive\n",
    "## Reinforcement learning"
   ]
  },
  {
   "cell_type": "markdown",
   "metadata": {},
   "source": [
    "### Implement a Basic Driving Agent\n",
    "To begin, your only task is to get the smartcab to move around in the environment. \n",
    "At this point, you will not be concerned with any sort of optimal driving policy. \n",
    "Note that the driving agent is given the following information at each intersection:\n",
    "\n",
    "- The next waypoint location relative to its current location and heading.\n",
    "- The state of the traffic light at the intersection and the presence of oncoming vehicles from other directions.\n",
    "- The current time left from the allotted deadline.\n",
    "\n",
    "To complete this task, simply have your driving agent choose a random action \n",
    "from the set of possible actions (None, 'forward', 'left', 'right') at each intersection, disregarding the input information above. \n",
    "Set the simulation deadline enforcement, enforce_deadline to False and observe how it performs.\n",
    "\n",
    "**QUESTION:** \n",
    "\n",
    "Observe what you see with the agent's behavior as it takes random actions. \n",
    "Does the smartcab eventually make it to the destination? Are there any other interesting observations to note?"
   ]
  },
  {
   "cell_type": "markdown",
   "metadata": {},
   "source": [
    "**Answer:**\n",
    "\n",
    "The angent's behaviour is, unsurprisingly, random. It would at times move in a circle (around the block) not really progressing in any net new direction. And it doesn't appear to have any logic behind its movement as rewards for previous states and actions are ignored.\n",
    "Another item of the agent's behavior is the agent can also drive over the right edge of the world and turn up on the left edge of the world.\n",
    "However, the smartcab does eventually make it to its destination on occasion."
   ]
  },
  {
   "cell_type": "markdown",
   "metadata": {},
   "source": [
    "### Inform the Driving Agent\n",
    "Now that your driving agent is capable of moving around in the environment, \n",
    "your next task is to identify a set of states that are appropriate for modeling the smartcab and environment. \n",
    "The main source of state variables are the current inputs at the intersection, but not all may require representation. \n",
    "You may choose to explicitly define states, or use some combination of inputs as an implicit state. At each time step, \n",
    "process the inputs and update the agent's current state using the self.state variable. \n",
    "\n",
    "Continue with the simulation deadline enforcement enforce_deadline being set to False, \n",
    "and observe how your driving agent now reports the change in state as the simulation progresses.\n",
    "\n",
    "**QUESTION:** \n",
    "\n",
    "What states have you identified that are appropriate for modeling the smartcab and environment? \n",
    "Why do you believe each of these states to be appropriate for this problem?"
   ]
  },
  {
   "cell_type": "markdown",
   "metadata": {},
   "source": [
    "**Answer:**\n",
    "\n",
    "At each state or waypoint we perceive 6 variables, left, right, oncoming, light, next_waypoint and deadline.\n",
    "Since traffic coming from the right, doesn't affect the smartcab's decision, this variable was removed - e.g. if the \n",
    "light is green, traffic from the right has stopped and if light is red, smartcab can only go right and any traffic from the right\n",
    "doesn't affect these options. Likewise, the input deadline was not utilized because at this point it does not provide\n",
    "any significant information to the smartcab.\n",
    "\n",
    "Each state identifies a situation and option for the smartcab, which results in a particular reward. With Q-learning implemented\n",
    "the smartcab will be able to use these states to learn and best determine its path to the destination.\n",
    " \n",
    "Final states used - light, oncoming, left, next_waypoint \n",
    "\n",
    "**OPTIONAL:** \n",
    "\n",
    "How many states in total exist for the smartcab in this environment? \n",
    "Does this number seem reasonable given that the goal of Q-Learning is to learn and make informed decisions about each state? Why or why not?\n",
    "\n",
    "**Answer:**\n",
    "\n",
    "- Light: Red or green\n",
    "- Oncoming: None, left, right, forward\n",
    "- Left: None, left, right, forward\n",
    "- Next_waypoint: None, left, right, forward\n",
    "\n",
    "Capturing 4 inputs per state with each input having a variation between 2-4, gives us 128 states in total that exist for the smartcab in this environment."
   ]
  },
  {
   "cell_type": "markdown",
   "metadata": {},
   "source": [
    "### Implement a Q-Learning Driving Agent\n",
    "With your driving agent being capable of interpreting the input information and having a mapping of environmental states, \n",
    "your next task is to implement the Q-Learning algorithm for your driving agent to choose the best action at each time step, \n",
    "based on the Q-values for the current state and action. \n",
    "\n",
    "Each action taken by the smartcab will produce a reward which depends on the state of the environment. \n",
    "The Q-Learning driving agent will need to consider these rewards when updating the Q-values. Once implemented, \n",
    "set the simulation deadline enforcement enforce_deadline to True. Run the simulation and observe how the smartcab moves about the environment in each trial.\n",
    "\n",
    "**QUESTION:**\n",
    "\n",
    "What changes do you notice in the agent's behavior when compared to the basic driving agent when random actions were always taken? \n",
    "Why is this behavior occurring?"
   ]
  },
  {
   "cell_type": "markdown",
   "metadata": {},
   "source": [
    "**Answer:**\n",
    "\n",
    "At the beginning of trials the agent's behavior remains the same; however, as trials proceed, the agent no longer seems to act randomly but its movement\n",
    "tends towards the destination.\n",
    "\n",
    "Behvaior - learning from it's past experience, Q table starts off empty and as the agent explores its world each state, action and its reward,\n",
    "it's q value, is stored. As more q values are stored the agent becomes at choosing the best action.\n",
    "\n",
    "With no reward for making it to the destination sooner rather than later, the agent attempts to maximize reward following waypoints \n",
    "that may not result in the shortest path to the destination.\n",
    "\n",
    "No. of Trials = 10, alpha = 0.5, epsilon = 0.5, gamma = 0.4\n",
    "\n",
    "Reached Destination | Ran out of Time\n",
    "--- | ---\n",
    "31 | 19\n",
    "30 | 20\n",
    "35 | 15\n",
    "27 | 23\n",
    "33 | 17\n",
    "\n",
    "No. of Trials = 10, alpha = 0.1, epsilon = 0.2, gamma = 0.3\n",
    "\n",
    "Reached Destination | Ran out of Time\n",
    "--- | ---\n",
    "35 | 15\n",
    "41 | 9\n",
    "37 | 13\n",
    "35 | 15\n",
    "40 | 10\n",
    "\n",
    "No. of Trials = 10, alpha = 0.1, epsilon = 0.2, gamma = 0.3"
   ]
  },
  {
   "cell_type": "markdown",
   "metadata": {},
   "source": [
    "### Improve the Q-Learning Driving Agent\n",
    "Your final task for this project is to enhance your driving agent so that, after sufficient training, \n",
    "the smartcab is able to reach the destination within the allotted time safely and efficiently. \n",
    "Parameters in the Q-Learning algorithm, such as the learning rate (alpha), \n",
    "the discount factor (gamma) and the exploration rate (epsilon) all contribute to the driving agent’s ability to learn the best action for each state. \n",
    "To improve on the success of your smartcab:\n",
    "\n",
    "- Set the number of trials, n_trials, in the simulation to 100.\n",
    "- Run the simulation with the deadline enforcement enforce_deadline set to True (you will need to reduce the update delay update_delay and set the display to False).\n",
    "- Observe the driving agent’s learning and smartcab’s success rate, particularly during the later trials.\n",
    "- Adjust one or several of the above parameters and iterate this process.\n",
    "\n",
    "This task is complete once you have arrived at what you determine is the best combination of parameters required for your driving agent to learn successfully.\n",
    "\n",
    "**QUESTION:** \n",
    "\n",
    "Report the different values for the parameters tuned in your basic implementation of Q-Learning. \n",
    "For which set of parameters does the agent perform best? How well does the final driving agent perform?"
   ]
  },
  {
   "cell_type": "markdown",
   "metadata": {},
   "source": [
    "**Answer:**\n",
    "\n",
    "No. of Trials = 100, alpha = 0.2, epsilon = 0.1, gamma = 0.4\n"
   ]
  },
  {
   "cell_type": "markdown",
   "metadata": {},
   "source": [
    "**QUESTION:**\n",
    "\n",
    "Does your agent get close to finding an optimal policy, i.e. reach the destination in the minimum possible time, \n",
    "and not incur any penalties? How would you describe an optimal policy for this problem?"
   ]
  },
  {
   "cell_type": "markdown",
   "metadata": {},
   "source": [
    "**Answer:**"
   ]
  },
  {
   "cell_type": "code",
   "execution_count": null,
   "metadata": {
    "collapsed": true
   },
   "outputs": [],
   "source": []
  }
 ],
 "metadata": {
  "kernelspec": {
   "display_name": "Python 2",
   "language": "python",
   "name": "python2"
  },
  "language_info": {
   "codemirror_mode": {
    "name": "ipython",
    "version": 2
   },
   "file_extension": ".py",
   "mimetype": "text/x-python",
   "name": "python",
   "nbconvert_exporter": "python",
   "pygments_lexer": "ipython2",
   "version": "2.7.11"
  }
 },
 "nbformat": 4,
 "nbformat_minor": 0
}
